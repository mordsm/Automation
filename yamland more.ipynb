{
 "cells": [
  {
   "cell_type": "code",
   "execution_count": 20,
   "metadata": {},
   "outputs": [
    {
     "ename": "TypeError",
     "evalue": "argument of type 'NoneType' is not iterable",
     "output_type": "error",
     "traceback": [
      "\u001b[0;31m---------------------------------------------------------------------------\u001b[0m",
      "\u001b[0;31mTypeError\u001b[0m                                 Traceback (most recent call last)",
      "\u001b[0;32m<ipython-input-20-561742125c6f>\u001b[0m in \u001b[0;36m<module>\u001b[0;34m\u001b[0m\n\u001b[1;32m      4\u001b[0m     \u001b[0;32mfor\u001b[0m \u001b[0mcommand\u001b[0m \u001b[0;32min\u001b[0m \u001b[0mdata\u001b[0m\u001b[0;34m[\u001b[0m\u001b[0;34m\"tests\"\u001b[0m\u001b[0;34m]\u001b[0m\u001b[0;34m[\u001b[0m\u001b[0;36m0\u001b[0m\u001b[0;34m]\u001b[0m\u001b[0;34m[\u001b[0m\u001b[0;34m\"commands\"\u001b[0m\u001b[0;34m]\u001b[0m\u001b[0;34m:\u001b[0m\u001b[0;34m\u001b[0m\u001b[0;34m\u001b[0m\u001b[0m\n\u001b[1;32m      5\u001b[0m \u001b[0;34m\u001b[0m\u001b[0m\n\u001b[0;32m----> 6\u001b[0;31m             \u001b[0;32mif\u001b[0m \u001b[0;34m\"קוד משתמש\"\u001b[0m \u001b[0;32min\u001b[0m \u001b[0mcommand\u001b[0m\u001b[0;34m[\u001b[0m\u001b[0;34m\"name\"\u001b[0m\u001b[0;34m]\u001b[0m\u001b[0;34m:\u001b[0m\u001b[0;34m\u001b[0m\u001b[0;34m\u001b[0m\u001b[0m\n\u001b[0m\u001b[1;32m      7\u001b[0m                 \u001b[0mprint\u001b[0m \u001b[0;34m(\u001b[0m\u001b[0mcommand\u001b[0m\u001b[0;34m)\u001b[0m\u001b[0;34m\u001b[0m\u001b[0;34m\u001b[0m\u001b[0m\n\u001b[1;32m      8\u001b[0m \u001b[0;34m\u001b[0m\u001b[0m\n",
      "\u001b[0;31mTypeError\u001b[0m: argument of type 'NoneType' is not iterable"
     ]
    }
   ],
   "source": [
    "- user say what he wants \n",
    "- system search for the similar text in yaml\n",
    "- system activates algorithm to get crawling path\n",
    "- system activates crawling by path order\n",
    "\n",
    "import json\n",
    "with open (\"/home/moshe/Downloads/data.json\",\"r\") as json_file:\n",
    "    data = json.load(json_file)\n",
    "    for command in data[\"tests\"][0][\"commands\"]:\n",
    "        if command[\"name\"] not None:\n",
    "            if \"קוד משתמש\" in command[\"name\"]:\n",
    "                print (command)\n",
    "\n",
    "        "
   ]
  },
  {
   "cell_type": "code",
   "execution_count": 4,
   "metadata": {},
   "outputs": [
    {
     "data": {
      "text/plain": [
       "['תנועות עתידיות', 'תנועות עטידיות', 'תנועות היסטוריות']"
      ]
     },
     "execution_count": 4,
     "metadata": {},
     "output_type": "execute_result"
    }
   ],
   "source": [
    "import difflib\n",
    "#difflib.get_close_matches('python', ['snakes', 'thon.py', 'pythin'])\n",
    "#['pythin', 'thon.py']  # ordered by similarity score\n",
    "difflib.get_close_matches('תנועות עתידיות', ['תנועות עתידיות','מניות','תנועות עטידיות', 'תנועות היסטוריות', 'תנועת'])\n"
   ]
  },
  {
   "cell_type": "code",
   "execution_count": null,
   "metadata": {},
   "outputs": [],
   "source": [
    "import difflib\n",
    "contents = [\"Tokenizing Text and WordNet Basics\",\n",
    "            \"Tokenizing text into sentences\",\n",
    "            \"Tokenizing sentences into words\",\n",
    "            \"Tokenizing sentences using regular expressions\"]\n",
    "input = \"Tokenzing sentence using expressions\"\n",
    "print (difflib.get_close_matches(input, contents, n=1))"
   ]
  },
  {
   "cell_type": "code",
   "execution_count": null,
   "metadata": {},
   "outputs": [],
   "source": [
    "https://www.datacamp.com/community/tutorials/fuzzy-string-python"
   ]
  },
  {
   "cell_type": "code",
   "execution_count": 4,
   "metadata": {},
   "outputs": [
    {
     "name": "stdout",
     "output_type": "stream",
     "text": [
      "Error: The Following Error occured: list index out of range\n",
      "None\n"
     ]
    }
   ],
   "source": [
    "from PyDictionary import PyDictionary\n",
    "dictionary=PyDictionary()\n",
    "print (dictionary.meaning(\"תנועות\"))"
   ]
  },
  {
   "cell_type": "code",
   "execution_count": 2,
   "metadata": {},
   "outputs": [
    {
     "name": "stdout",
     "output_type": "stream",
     "text": [
      "Collecting PyDictionary\n",
      "  Using cached https://files.pythonhosted.org/packages/d5/0b/575893d32fd0484f3d05a0d754fd35226fee7257b433576484cd7455e429/PyDictionary-2.0.1-py3-none-any.whl\n",
      "Requirement already satisfied: requests in /home/moshe/.local/lib/python3.7/site-packages (from PyDictionary) (2.24.0)\n",
      "Requirement already satisfied: bs4 in /home/moshe/anaconda3/lib/python3.7/site-packages (from PyDictionary) (0.0.1)\n",
      "Collecting goslate (from PyDictionary)\n",
      "  Using cached https://files.pythonhosted.org/packages/39/0b/50af938a1c3d4f4c595b6a22d37af11ebe666246b05a1a97573e8c8944e5/goslate-1.5.1.tar.gz\n",
      "Requirement already satisfied: click in /home/moshe/.local/lib/python3.7/site-packages (from PyDictionary) (7.1.1)\n",
      "Requirement already satisfied: idna<3,>=2.5 in /home/moshe/.local/lib/python3.7/site-packages (from requests->PyDictionary) (2.10)\n",
      "Requirement already satisfied: chardet<4,>=3.0.2 in /home/moshe/.local/lib/python3.7/site-packages (from requests->PyDictionary) (3.0.4)\n",
      "Requirement already satisfied: certifi>=2017.4.17 in /home/moshe/.local/lib/python3.7/site-packages (from requests->PyDictionary) (2020.6.20)\n",
      "Requirement already satisfied: urllib3!=1.25.0,!=1.25.1,<1.26,>=1.21.1 in /home/moshe/.local/lib/python3.7/site-packages (from requests->PyDictionary) (1.25.10)\n",
      "Requirement already satisfied: beautifulsoup4 in /home/moshe/.local/lib/python3.7/site-packages (from bs4->PyDictionary) (4.9.0)\n",
      "Collecting futures (from goslate->PyDictionary)\n",
      "  Using cached https://files.pythonhosted.org/packages/05/80/f41cca0ea1ff69bce7e7a7d76182b47bb4e1a494380a532af3e8ee70b9ec/futures-3.1.1-py3-none-any.whl\n",
      "Requirement already satisfied: soupsieve>1.2 in /home/moshe/.local/lib/python3.7/site-packages (from beautifulsoup4->bs4->PyDictionary) (2.0)\n",
      "Building wheels for collected packages: goslate\n",
      "  Building wheel for goslate (setup.py) ... \u001b[?25ldone\n",
      "\u001b[?25h  Stored in directory: /home/moshe/.cache/pip/wheels/4f/7f/28/6f52271012a7649b54b1a7adaae329b4246bbbf9d1e4f6e51a\n",
      "Successfully built goslate\n",
      "Installing collected packages: futures, goslate, PyDictionary\n",
      "Successfully installed PyDictionary-2.0.1 futures-3.1.1 goslate-1.5.1\n",
      "Note: you may need to restart the kernel to use updated packages.\n"
     ]
    }
   ],
   "source": [
    "pip install PyDictionary\n"
   ]
  },
  {
   "cell_type": "code",
   "execution_count": null,
   "metadata": {},
   "outputs": [],
   "source": []
  }
 ],
 "metadata": {
  "kernelspec": {
   "display_name": "Django Shell-Plus",
   "language": "python",
   "name": "django_extensions"
  },
  "language_info": {
   "codemirror_mode": {
    "name": "ipython",
    "version": 3
   },
   "file_extension": ".py",
   "mimetype": "text/x-python",
   "name": "python",
   "nbconvert_exporter": "python",
   "pygments_lexer": "ipython3",
   "version": "3.7.3"
  }
 },
 "nbformat": 4,
 "nbformat_minor": 4
}
