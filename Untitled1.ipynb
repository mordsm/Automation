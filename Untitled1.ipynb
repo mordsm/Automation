{
 "cells": [
  {
   "cell_type": "code",
   "execution_count": 13,
   "metadata": {},
   "outputs": [
    {
     "ename": "NameError",
     "evalue": "name 'title' is not defined",
     "output_type": "error",
     "traceback": [
      "\u001b[0;31m---------------------------------------------------------------------------\u001b[0m",
      "\u001b[0;31mNameError\u001b[0m                                 Traceback (most recent call last)",
      "\u001b[0;32m<ipython-input-13-fc6a266e49a3>\u001b[0m in \u001b[0;36m<module>\u001b[0;34m\u001b[0m\n\u001b[1;32m     67\u001b[0m \u001b[0;34m\u001b[0m\u001b[0m\n\u001b[1;32m     68\u001b[0m \u001b[0;31m#variable = \"json_data\" is the set of URLS\u001b[0m\u001b[0;34m\u001b[0m\u001b[0;34m\u001b[0m\u001b[0;34m\u001b[0m\u001b[0m\n\u001b[0;32m---> 69\u001b[0;31m \u001b[0mmenuItemsTree\u001b[0m \u001b[0;34m=\u001b[0m \u001b[0mcreateTree\u001b[0m\u001b[0;34m(\u001b[0m\u001b[0mjson_data\u001b[0m\u001b[0;34m)\u001b[0m\u001b[0;34m;\u001b[0m\u001b[0;34m\u001b[0m\u001b[0;34m\u001b[0m\u001b[0m\n\u001b[0m\u001b[1;32m     70\u001b[0m \u001b[0mconsole\u001b[0m\u001b[0;34m.\u001b[0m\u001b[0mlog\u001b[0m\u001b[0;34m(\u001b[0m\u001b[0mJSON\u001b[0m\u001b[0;34m.\u001b[0m\u001b[0mstringify\u001b[0m\u001b[0;34m(\u001b[0m\u001b[0mmenuItemsTree\u001b[0m\u001b[0;34m)\u001b[0m\u001b[0;34m)\u001b[0m\u001b[0;34m;\u001b[0m\u001b[0;34m\u001b[0m\u001b[0;34m\u001b[0m\u001b[0m\n",
      "\u001b[0;32m<ipython-input-13-fc6a266e49a3>\u001b[0m in \u001b[0;36mcreateTree\u001b[0;34m(nodes)\u001b[0m\n\u001b[1;32m     61\u001b[0m   \u001b[0;32mfor\u001b[0m \u001b[0mi\u001b[0m \u001b[0;32min\u001b[0m \u001b[0mrange\u001b[0m\u001b[0;34m(\u001b[0m\u001b[0mlen\u001b[0m\u001b[0;34m(\u001b[0m\u001b[0mnodes\u001b[0m\u001b[0;34m)\u001b[0m\u001b[0;34m)\u001b[0m\u001b[0;34m:\u001b[0m\u001b[0;34m\u001b[0m\u001b[0;34m\u001b[0m\u001b[0m\n\u001b[1;32m     62\u001b[0m     \u001b[0mnode\u001b[0m \u001b[0;34m=\u001b[0m \u001b[0mnodes\u001b[0m\u001b[0;34m[\u001b[0m\u001b[0mi\u001b[0m\u001b[0;34m]\u001b[0m\u001b[0;34m;\u001b[0m\u001b[0;34m\u001b[0m\u001b[0;34m\u001b[0m\u001b[0m\n\u001b[0;32m---> 63\u001b[0;31m     \u001b[0maddToTree\u001b[0m\u001b[0;34m(\u001b[0m\u001b[0mnode\u001b[0m\u001b[0;34m,\u001b[0m \u001b[0mtree\u001b[0m\u001b[0;34m)\u001b[0m\u001b[0;34m;\u001b[0m\u001b[0;34m\u001b[0m\u001b[0;34m\u001b[0m\u001b[0m\n\u001b[0m\u001b[1;32m     64\u001b[0m \u001b[0;34m\u001b[0m\u001b[0m\n\u001b[1;32m     65\u001b[0m   \u001b[0;32mreturn\u001b[0m \u001b[0mtree\u001b[0m\u001b[0;34m;\u001b[0m\u001b[0;34m\u001b[0m\u001b[0;34m\u001b[0m\u001b[0m\n",
      "\u001b[0;32m<ipython-input-13-fc6a266e49a3>\u001b[0m in \u001b[0;36maddToTree\u001b[0;34m(node, treeNodes)\u001b[0m\n\u001b[1;32m     28\u001b[0m \u001b[0;34m\u001b[0m\u001b[0m\n\u001b[1;32m     29\u001b[0m   parentNode.append({\n\u001b[0;32m---> 30\u001b[0;31m     \u001b[0mtitle\u001b[0m\u001b[0;34m:\u001b[0m \u001b[0mnode\u001b[0m\u001b[0;34m[\u001b[0m\u001b[0;34m\"title\"\u001b[0m\u001b[0;34m]\u001b[0m\u001b[0;34m,\u001b[0m\u001b[0;34m\u001b[0m\u001b[0;34m\u001b[0m\u001b[0m\n\u001b[0m\u001b[1;32m     31\u001b[0m     \u001b[0mpath\u001b[0m\u001b[0;34m:\u001b[0m \u001b[0mnode\u001b[0m\u001b[0;34m[\u001b[0m\u001b[0;34m\"path\"\u001b[0m\u001b[0;34m]\u001b[0m\u001b[0;34m,\u001b[0m\u001b[0;34m\u001b[0m\u001b[0;34m\u001b[0m\u001b[0m\n\u001b[1;32m     32\u001b[0m     \u001b[0mchildren\u001b[0m\u001b[0;34m:\u001b[0m \u001b[0;34m[\u001b[0m\u001b[0;34m]\u001b[0m\u001b[0;34m\u001b[0m\u001b[0;34m\u001b[0m\u001b[0m\n",
      "\u001b[0;31mNameError\u001b[0m: name 'title' is not defined"
     ]
    }
   ],
   "source": [
    "import json\n",
    "json_data = [{\n",
    "  \"title\": \"Food\",\n",
    "  \"path\": \"/root\",\n",
    "}, {\n",
    "  \"title\": \"Cloths\",\n",
    "  \"path\": \"/root\",\n",
    "}, {\n",
    "  \"title\": \"Veg\",\n",
    "  \"path\": \"/root/Food\",\n",
    "}, {\n",
    "  \"title\": \"Brinjal\",\n",
    "  \"path\": \"/root/Food/Veg\",\n",
    "}, {\n",
    "  \"title\": \"T shirt\",\n",
    "  \"path\": \"/root/Cloths\",\n",
    "}, {\n",
    "  \"title\": \"Shirt\",\n",
    "  \"path\": \"/root/Cloths\",\n",
    "}, {\n",
    "  \"title\": \"Green brinjal\",\n",
    "  \"path\": \"/root/Food/Veg/Brinjal\",\n",
    "}];\n",
    "    \n",
    "    \n",
    "def addToTree(node, treeNodes) :\n",
    "  parentNode = GetTheParentNodeChildArray(node[\"path\"], treeNodes) or treeNodes;\n",
    "\n",
    "  parentNode.append({\n",
    "    title: node[\"title\"],\n",
    "    path: node[\"path\"],\n",
    "    children: []\n",
    "  });\n",
    "\n",
    "\n",
    "\n",
    "def GetTheParentNodeChildArray(path, treeNodes) :\n",
    "  for i in range(len(treeNodes)):\n",
    "    treeNode = treeNodes[i];\n",
    "    if (path == (treeNode.path + '/' + treeNode.title)):\n",
    "      return treeNode.children;\n",
    "    elif (treeNode.children.length > 0):\n",
    "      possibleParent = false;\n",
    "    for item in treeNode.children:\n",
    "          if (path.indexOf(item.path + '/' + item.title) == 0) :\n",
    "              possibleParent = true;\n",
    "          return false;\n",
    "\n",
    "    if (possibleParent) :\n",
    "        return GetTheParentNodeChildArray(path, treeNode.children)\n",
    "    \n",
    " \n",
    "\n",
    "\n",
    "\n",
    "\n",
    "#Create the item tree starting from menuItems\n",
    "def createTree(nodes) :\n",
    "  tree = [];\n",
    "\n",
    "  for i in range(len(nodes)):\n",
    "    node = nodes[i];\n",
    "    addToTree(node, tree);\n",
    "\n",
    "  return tree;\n",
    "\n",
    "\n",
    "#variable = \"json_data\" is the set of URLS\n",
    "menuItemsTree = createTree(json_data);\n",
    "console.log(JSON.stringify(menuItemsTree));"
   ]
  },
  {
   "cell_type": "code",
   "execution_count": null,
   "metadata": {},
   "outputs": [],
   "source": []
  }
 ],
 "metadata": {
  "kernelspec": {
   "display_name": "Django Shell-Plus",
   "language": "python",
   "name": "django_extensions"
  },
  "language_info": {
   "codemirror_mode": {
    "name": "ipython",
    "version": 3
   },
   "file_extension": ".py",
   "mimetype": "text/x-python",
   "name": "python",
   "nbconvert_exporter": "python",
   "pygments_lexer": "ipython3",
   "version": "3.7.3"
  }
 },
 "nbformat": 4,
 "nbformat_minor": 4
}
