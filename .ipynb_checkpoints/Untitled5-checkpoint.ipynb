{
 "cells": [
  {
   "cell_type": "code",
   "execution_count": null,
   "metadata": {},
   "outputs": [],
   "source": [
    "#!/usr/bin/env python3\n",
    "\n",
    "# pip install SpeechRecognition\n",
    "\n",
    "# https://pypi.python.org/pypi/SpeechRecognition/\n",
    "# recognizer_instance.recognize_google(audio_data, key = None, language = \"en-US\", show_all = False)\n",
    "# Performs speech recognition on audio_data (an AudioData instance), using the Google Speech Recognition API.\n",
    "# The Google Speech Recognition API key is specified by key. If not specified, it uses a generic key that works out of the box.\n",
    "# This should generally be used for personal or testing purposes only, as it may be revoked by Google at any time.\n",
    "\n",
    "# NOTE: this example requires PyAudio because it uses the Microphone class\n",
    "\n",
    "import speech_recognition as sr\n",
    "\n",
    "# obtain audio from the microphone\n",
    "r = sr.Recognizer()\n",
    "with sr.Microphone() as source:\n",
    "\tprint(\"Say something!\")\n",
    "\taudio = r.listen(source)\n",
    "\n",
    "# recognize speech using Google Speech Recognition\n",
    "try:\n",
    "\t# for testing purposes, we're just using the default API key\n",
    "\t# to use another API key, use `r.recognize_google(audio, key=\"GOOGLE_SPEECH_RECOGNITION_API_KEY\")`\n",
    "\t# instead of `r.recognize_google(audio)`\n",
    "\tprint(\"Google Speech Recognition thinks you said in English: -  \" + r.recognize_google(audio, language = \"en-US\"))\n",
    "\tprint(\"Google Speech Recognition thinks you said in Turkish: -  \" + r.recognize_google(audio, language = \"tr-TR\"))\n",
    "except sr.UnknownValueError:\n",
    "\tprint(\"Google Speech Recognition could not understand audio\")\n",
    "except sr.RequestError as e:\n",
    "\tprint(\"Could not request results from Google Speech Recognition service; {0}\".format(e))"
   ]
  },
  {
   "cell_type": "code",
   "execution_count": null,
   "metadata": {},
   "outputs": [],
   "source": []
  }
 ],
 "metadata": {
  "kernelspec": {
   "display_name": "Python 3",
   "language": "python",
   "name": "python3"
  },
  "language_info": {
   "codemirror_mode": {
    "name": "ipython",
    "version": 3
   },
   "file_extension": ".py",
   "mimetype": "text/x-python",
   "name": "python",
   "nbconvert_exporter": "python",
   "pygments_lexer": "ipython3",
   "version": "3.7.3"
  }
 },
 "nbformat": 4,
 "nbformat_minor": 4
}
